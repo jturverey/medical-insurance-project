{
 "cells": [
  {
   "cell_type": "markdown",
   "metadata": {},
   "source": [
    "# U.S. Medical Insurance Costs"
   ]
  },
  {
   "cell_type": "markdown",
   "metadata": {},
   "source": [
    "This project uses a dataset with medical insurance costs and demographic information to calculate summary statistics for the cost of medical insurance in the United States based on three critieria: location, age, and whether an individual smokes or not.  \n",
    "The dataset defines location to be one of four regions: northeast, northwest, southeast, or southwest.  \n",
    "    \n",
    "All dataset columns are imported into the project, but not all are currently used in the analysis portion.  \n",
    "The columns not currently being used are:  \n",
    "gender  \n",
    "bmi  \n",
    "number_of_children\n",
    "\n",
    "Prior to working with this dataset in Python, Excel was used to:  \n",
    "Rename a few columns for clarity  \n",
    "Remove one duplicate record  \n",
    "Check for missing values  \n",
    "Check for consistent column formatting  \n",
    "  \n",
    "The original dataset can be found [here](https://www.kaggle.com/datasets/mirichoi0218/insurance).  \n",
    "  \n",
    "Finally, the main purpose of this project is to demonstrate general Python fluency, not to conduct a detailed analysis. For this reason, no library imports are used."
   ]
  },
  {
   "cell_type": "code",
   "execution_count": 1,
   "metadata": {},
   "outputs": [],
   "source": [
    "# To begin, an empty list is initiated to represent each column contained in the dataset, insurance.csv. The dataset is then\n",
    "# imported and each list is populated with its corresponding values.\n",
    "\n",
    "age_column = []\n",
    "gender_column = []\n",
    "bmi_column = []\n",
    "number_of_children_column = []\n",
    "smokes_column = []\n",
    "region_column = []\n",
    "insurance_cost_column = []\n",
    "\n",
    "with open('insurance.csv') as insurance:\n",
    "    next(insurance)\n",
    "    for row in insurance:\n",
    "        row = row.split(',')\n",
    "        age_column.append(int(row[0]))\n",
    "        gender_column.append(row[1])\n",
    "        bmi_column.append(float(row[2]))\n",
    "        number_of_children_column.append(int(row[3]))\n",
    "        smokes_column.append(row[4])\n",
    "        region_column.append(row[5])\n",
    "        insurance_cost_column.append(float(row[6]))"
   ]
  },
  {
   "cell_type": "code",
   "execution_count": 2,
   "metadata": {},
   "outputs": [
    {
     "name": "stdout",
     "output_type": "stream",
     "text": [
      "Average age of individual with medical insurance: 39\n"
     ]
    }
   ],
   "source": [
    "# Average age of individuals in the dataset.\n",
    "print(\"Average age of individual with medical insurance:\", round(sum(age_column) / len(age_column)))"
   ]
  },
  {
   "cell_type": "code",
   "execution_count": 3,
   "metadata": {},
   "outputs": [
    {
     "name": "stdout",
     "output_type": "stream",
     "text": [
      "Average cost of medical insurance: $13279.12\n"
     ]
    }
   ],
   "source": [
    "# Average cost of medical insurance for individuals in the dataset.\n",
    "print(\"Average cost of medical insurance:\", \"$\" + str(round(sum(insurance_cost_column) / len(insurance_cost_column), 2)))"
   ]
  },
  {
   "cell_type": "code",
   "execution_count": 4,
   "metadata": {},
   "outputs": [
    {
     "name": "stdout",
     "output_type": "stream",
     "text": [
      "\n",
      "AVERAGE COST OF INSURANCE BY AGE\n",
      "Under 30: $9200.62\n",
      "30-39: $11738.78\n",
      "40-49: $14399.2\n",
      "50-59: $16495.23\n",
      "60+:   $21248.02\n",
      "\n"
     ]
    }
   ],
   "source": [
    "# Now we will calculate the average cost of medical insurance for different age groups. First, five empty lists are initiated to\n",
    "# represent five age groups. These lists are then populated with their corresponding values from insurance_cost_column. The\n",
    "# actual calculations are done within a final print statement.\n",
    "\n",
    "cost_age_under30 = []\n",
    "cost_age30to39 = []\n",
    "cost_age40to49 = []\n",
    "cost_age50to59 = []\n",
    "cost_age60_over = []\n",
    "\n",
    "age_and_cost = zip(age_column, insurance_cost_column)\n",
    "for age,cost in age_and_cost:\n",
    "    if age < 30:\n",
    "        cost_age_under30.append(cost)\n",
    "    elif age <= 39:\n",
    "        cost_age30to39.append(cost)\n",
    "    elif age <= 49:\n",
    "        cost_age40to49.append(cost)\n",
    "    elif age <= 59:\n",
    "        cost_age50to59.append(cost)\n",
    "    else:\n",
    "        cost_age60_over.append(cost)\n",
    "               \n",
    "print(f\"\"\"\n",
    "AVERAGE COST OF INSURANCE BY AGE\n",
    "Under 30: ${round(sum(cost_age_under30) / len(cost_age_under30), 2)}\n",
    "30-39: ${round(sum(cost_age30to39) / len(cost_age30to39), 2)}\n",
    "40-49: ${round(sum(cost_age40to49) / len(cost_age40to49), 2)}\n",
    "50-59: ${round(sum(cost_age50to59) / len(cost_age50to59), 2)}\n",
    "60+:   ${round(sum(cost_age60_over) / len(cost_age60_over), 2)}\n",
    "\"\"\")"
   ]
  },
  {
   "cell_type": "markdown",
   "metadata": {},
   "source": [
    "Age is shown to be an important factor in the cost of medical insurance. As an individuals age increases, so does the average cost of insurance."
   ]
  },
  {
   "cell_type": "code",
   "execution_count": 5,
   "metadata": {},
   "outputs": [
    {
     "name": "stdout",
     "output_type": "stream",
     "text": [
      "\n",
      "AVERAGE COST OF INSURANCE BY REGION\n",
      "Northeast: $13406.38\n",
      "Northwest: $12450.84\n",
      "Southeast: $14735.41\n",
      "Southwest: $12346.94\n",
      "\n"
     ]
    }
   ],
   "source": [
    "# Next we will calculate the average cost of medical insurance by region. This process will follow the same structure as before:\n",
    "# empty lists are initiated and populated, and then a print statement with calculations is generated. \n",
    "\n",
    "cost_northeast = []\n",
    "cost_northwest = []\n",
    "cost_southeast = []\n",
    "cost_southwest = []\n",
    "\n",
    "region_and_cost = zip(region_column, insurance_cost_column)\n",
    "for region,cost in region_and_cost:\n",
    "    if region == \"northeast\":\n",
    "        cost_northeast.append(cost)\n",
    "    elif region == \"northwest\":\n",
    "        cost_northwest.append(cost)\n",
    "    elif region == \"southeast\":\n",
    "        cost_southeast.append(cost)\n",
    "    elif region == \"southwest\":\n",
    "        cost_southwest.append(cost)\n",
    "        \n",
    "print(f\"\"\"\n",
    "AVERAGE COST OF INSURANCE BY REGION\n",
    "Northeast: ${round(sum(cost_northeast) / len(cost_northeast), 2)}\n",
    "Northwest: ${round(sum(cost_northwest) / len(cost_northwest), 2)}\n",
    "Southeast: ${round(sum(cost_southeast) / len(cost_southeast), 2)}\n",
    "Southwest: ${round(sum(cost_southwest) / len(cost_southwest), 2)}\n",
    "\"\"\")"
   ]
  },
  {
   "cell_type": "markdown",
   "metadata": {},
   "source": [
    "Medical insurance is shown to be more costly in the East than it is in the West. The Southeast is shown to have the highest cost of insurance of all four regions."
   ]
  },
  {
   "cell_type": "code",
   "execution_count": 6,
   "metadata": {},
   "outputs": [
    {
     "name": "stdout",
     "output_type": "stream",
     "text": [
      "Average insurance cost for smoking individuals: $32050.23\n",
      "Average insurance cost for non-smoking individuals: $8440.66\n"
     ]
    }
   ],
   "source": [
    "# Lastly, we will determine the average cost of medical insurance based on whether an individual smokes or not. For this last\n",
    "# process, a different approach will be used. Instead of initiating and populating lists, we will initiate and update four\n",
    "# variables to be used for sums and counts. These variables will then be used for making calculations in the print statement.\n",
    "\n",
    "smoking_total = 0\n",
    "smoking_count = 0\n",
    "non_smoking_total = 0\n",
    "non_smoking_count = 0\n",
    "\n",
    "smokes_cost = zip(smokes_column, insurance_cost_column)\n",
    "for record in smokes_cost:\n",
    "    if record[0] == \"yes\":\n",
    "        smoking_total += record[1]\n",
    "        smoking_count += 1\n",
    "    elif record[0] == \"no\":\n",
    "        non_smoking_total += record[1]\n",
    "        non_smoking_count += 1\n",
    "        \n",
    "print(\"Average insurance cost for smoking individuals:\", \"$\" + str(round(smoking_total / smoking_count, 2)))\n",
    "print(\"Average insurance cost for non-smoking individuals:\", \"$\" + str(round(non_smoking_total / non_smoking_count, 2)))"
   ]
  },
  {
   "cell_type": "markdown",
   "metadata": {},
   "source": [
    "Whether an individual smokes or not is clearly a deciding factor in the cost of medical insurance."
   ]
  },
  {
   "cell_type": "markdown",
   "metadata": {},
   "source": [
    "## Conclusions"
   ]
  },
  {
   "cell_type": "markdown",
   "metadata": {},
   "source": [
    "In the context of this dataset, it can be determined that age, location, and whether an individual smokes or not, are all contributing factors to the cost of medical insurance. Whether an individual smokes or not has the most impact on insurance cost. This is followed by age, and then location.  \n",
    "According to these findings, an individual who is 60+ year old, living in the Southeast, who smokes, is likely to have medical insurance that is the most expensive."
   ]
  }
 ],
 "metadata": {
  "kernelspec": {
   "display_name": "Python 3 (ipykernel)",
   "language": "python",
   "name": "python3"
  },
  "language_info": {
   "codemirror_mode": {
    "name": "ipython",
    "version": 3
   },
   "file_extension": ".py",
   "mimetype": "text/x-python",
   "name": "python",
   "nbconvert_exporter": "python",
   "pygments_lexer": "ipython3",
   "version": "3.9.13"
  }
 },
 "nbformat": 4,
 "nbformat_minor": 4
}
